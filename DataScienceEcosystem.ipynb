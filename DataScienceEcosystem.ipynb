{
  "nbformat": 4,
  "nbformat_minor": 0,
  "metadata": {
    "colab": {
      "provenance": [],
      "authorship_tag": "ABX9TyM0c1F/7en1x50gruFpM/Uw",
      "include_colab_link": true
    },
    "kernelspec": {
      "name": "python3",
      "display_name": "Python 3"
    },
    "language_info": {
      "name": "python"
    }
  },
  "cells": [
    {
      "cell_type": "markdown",
      "metadata": {
        "id": "view-in-github",
        "colab_type": "text"
      },
      "source": [
        "<a href=\"https://colab.research.google.com/github/HemantAK203/testrepo/blob/main/DataScienceEcosystem.ipynb\" target=\"_parent\"><img src=\"https://colab.research.google.com/assets/colab-badge.svg\" alt=\"Open In Colab\"/></a>"
      ]
    },
    {
      "cell_type": "markdown",
      "source": [
        "# Data Science Tools and Ecosystem    \n",
        "\n"
      ],
      "metadata": {
        "id": "69NHHxhkpefY"
      }
    },
    {
      "cell_type": "markdown",
      "source": [
        "In this notebook, Data Science Tools and Ecosystem are summarized.\n"
      ],
      "metadata": {
        "id": "rvBJajWBU4lV"
      }
    },
    {
      "cell_type": "markdown",
      "source": [
        "<b>Objectives:</b>\n",
        "<ul>\n",
        "List popular languages for Data Science\n",
        "<li>Python</li>\n",
        "<li>R</li>\n",
        "<li> SQL</li>\n",
        "<ul>\n"
      ],
      "metadata": {
        "id": "r4mrSXZjacYM"
      }
    },
    {
      "cell_type": "markdown",
      "source": [
        "Some of the popular languages that Data Scientists use are:\n",
        "<ol>\n",
        "<li>Python</li>\n",
        "<li>R</li>\n",
        "<li>java</li>\n",
        "</ol>\n",
        "\n",
        "\n",
        "\n"
      ],
      "metadata": {
        "id": "KuwfDatdVFAO"
      }
    },
    {
      "cell_type": "markdown",
      "source": [
        "Some of the commonly used libraries used by Data Scientists include:\n",
        "<ol>\n",
        "<li>GGplot</li>\n",
        "<li>matplotlib</li>\n",
        "<li>pandas</li>\n",
        "</ol>"
      ],
      "metadata": {
        "id": "6KqtBQutV7_T"
      }
    },
    {
      "cell_type": "markdown",
      "source": [],
      "metadata": {
        "id": "raS2761na28q"
      }
    },
    {
      "cell_type": "markdown",
      "source": [],
      "metadata": {
        "id": "t9gusi6lWO6J"
      }
    },
    {
      "cell_type": "markdown",
      "source": [
        "<table>\n",
        "<tr>\n",
        "<th>Data Science Tools</th>\n",
        "</tr>\n",
        "<tr><td>RStudio</td>\n",
        "</tr><tr>\n",
        "<td>Apache Spark</td>\n",
        "</tr><tr>\n",
        "<td>TensorFlow.</td>\n",
        "</tr>\n",
        "</table>\n",
        "\n",
        "\n"
      ],
      "metadata": {
        "id": "F478S2wiW8Mx"
      }
    },
    {
      "cell_type": "markdown",
      "source": [
        "###Below are a few examples of evaluating arithmetic expressions in Python.\n"
      ],
      "metadata": {
        "id": "vdIU-izrYmSl"
      }
    },
    {
      "cell_type": "code",
      "source": [
        "#This a simple arithmetic expression to mutiply then add integers.\n",
        "(3*4)+5\n"
      ],
      "metadata": {
        "colab": {
          "base_uri": "https://localhost:8080/"
        },
        "id": "9WtkcKfGY3OB",
        "outputId": "aa3564f3-a81e-4ae5-c189-ec098e3b325c"
      },
      "execution_count": 1,
      "outputs": [
        {
          "output_type": "execute_result",
          "data": {
            "text/plain": [
              "17"
            ]
          },
          "metadata": {},
          "execution_count": 1
        }
      ]
    },
    {
      "cell_type": "code",
      "source": [
        "#This will convert 200 minutes to hours by diving by 60\n",
        "a=200\n",
        "b=(a//60)\n",
        "c=a%60\n",
        "print(b,\"hours\",c,\"minutes\")\n"
      ],
      "metadata": {
        "colab": {
          "base_uri": "https://localhost:8080/"
        },
        "id": "fMY4H2ZxZJjn",
        "outputId": "ad9cafa3-36cd-42e4-e080-66c767977d07"
      },
      "execution_count": 7,
      "outputs": [
        {
          "output_type": "stream",
          "name": "stdout",
          "text": [
            "3 hours 20 minutes\n"
          ]
        }
      ]
    },
    {
      "cell_type": "markdown",
      "source": [
        "##Author\n",
        "Hemant Singh"
      ],
      "metadata": {
        "id": "_WnC8zwDbbom"
      }
    }
  ]
}